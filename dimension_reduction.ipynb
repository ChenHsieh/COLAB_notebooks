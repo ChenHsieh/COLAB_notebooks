{
  "nbformat": 4,
  "nbformat_minor": 0,
  "metadata": {
    "language_info": {
      "codemirror_mode": {
        "name": "ipython",
        "version": 3
      },
      "file_extension": ".py",
      "mimetype": "text/x-python",
      "name": "python",
      "nbconvert_exporter": "python",
      "pygments_lexer": "ipython3",
      "version": "3.8.2-final"
    },
    "orig_nbformat": 2,
    "kernelspec": {
      "name": "binf",
      "display_name": "binf",
      "language": "python"
    },
    "colab": {
      "name": "umap_rnaseq.ipynb",
      "provenance": [],
      "include_colab_link": true
    }
  },
  "cells": [
    {
      "cell_type": "markdown",
      "metadata": {
        "id": "view-in-github",
        "colab_type": "text"
      },
      "source": [
        "<a href=\"https://colab.research.google.com/github/ChenHsieh/COLAB_notebooks/blob/main/dimension_reduction.ipynb\" target=\"_parent\"><img src=\"https://colab.research.google.com/assets/colab-badge.svg\" alt=\"Open In Colab\"/></a>"
      ]
    },
    {
      "cell_type": "code",
      "metadata": {
        "id": "1ryHLdeK1jfM",
        "colab": {
          "base_uri": "https://localhost:8080/",
          "height": 470
        },
        "outputId": "6a9253bc-7872-4cc3-98fc-3ae3e161180b"
      },
      "source": [
        "# comparing PCA and UMAP\n",
        "\n",
        "import numpy as np\n",
        "from sklearn.datasets import load_digits\n",
        "from sklearn.model_selection import train_test_split\n",
        "from sklearn.preprocessing import StandardScaler\n",
        "import matplotlib.pyplot as plt\n",
        "import seaborn as sns\n",
        "import pandas as pd\n",
        "%matplotlib inline\n",
        "input_table = pd.read_csv(\"/content/uniq_counts.tsv\", sep='\\t', index_col=0)\n",
        "input_table\n",
        "# input_table.set_index(\"gene\")"
      ],
      "execution_count": 1,
      "outputs": [
        {
          "output_type": "execute_result",
          "data": {
            "text/html": [
              "<div>\n",
              "<style scoped>\n",
              "    .dataframe tbody tr th:only-of-type {\n",
              "        vertical-align: middle;\n",
              "    }\n",
              "\n",
              "    .dataframe tbody tr th {\n",
              "        vertical-align: top;\n",
              "    }\n",
              "\n",
              "    .dataframe thead th {\n",
              "        text-align: right;\n",
              "    }\n",
              "</style>\n",
              "<table border=\"1\" class=\"dataframe\">\n",
              "  <thead>\n",
              "    <tr style=\"text-align: right;\">\n",
              "      <th></th>\n",
              "      <th>barkpri_717_counts</th>\n",
              "      <th>barksec_717_counts</th>\n",
              "      <th>bud_717_counts</th>\n",
              "      <th>callus_717_counts</th>\n",
              "      <th>debarkedpri_717_counts</th>\n",
              "      <th>leafexp_717_counts</th>\n",
              "      <th>leafmat_717_counts</th>\n",
              "      <th>leafnew_717_counts</th>\n",
              "      <th>roottip_717_counts</th>\n",
              "      <th>shoottip_717_counts</th>\n",
              "      <th>xylem_717_counts</th>\n",
              "    </tr>\n",
              "    <tr>\n",
              "      <th>gene</th>\n",
              "      <th></th>\n",
              "      <th></th>\n",
              "      <th></th>\n",
              "      <th></th>\n",
              "      <th></th>\n",
              "      <th></th>\n",
              "      <th></th>\n",
              "      <th></th>\n",
              "      <th></th>\n",
              "      <th></th>\n",
              "      <th></th>\n",
              "    </tr>\n",
              "  </thead>\n",
              "  <tbody>\n",
              "    <tr>\n",
              "      <th>Ptralav11000001m.g</th>\n",
              "      <td>0</td>\n",
              "      <td>0</td>\n",
              "      <td>0</td>\n",
              "      <td>0</td>\n",
              "      <td>0</td>\n",
              "      <td>0</td>\n",
              "      <td>0</td>\n",
              "      <td>0</td>\n",
              "      <td>0</td>\n",
              "      <td>0</td>\n",
              "      <td>0</td>\n",
              "    </tr>\n",
              "    <tr>\n",
              "      <th>Ptralav11000002m.g</th>\n",
              "      <td>0</td>\n",
              "      <td>1</td>\n",
              "      <td>0</td>\n",
              "      <td>0</td>\n",
              "      <td>0</td>\n",
              "      <td>0</td>\n",
              "      <td>0</td>\n",
              "      <td>0</td>\n",
              "      <td>0</td>\n",
              "      <td>2</td>\n",
              "      <td>0</td>\n",
              "    </tr>\n",
              "    <tr>\n",
              "      <th>Ptralav11000004m.g</th>\n",
              "      <td>694</td>\n",
              "      <td>942</td>\n",
              "      <td>1918</td>\n",
              "      <td>1607</td>\n",
              "      <td>1049</td>\n",
              "      <td>583</td>\n",
              "      <td>309</td>\n",
              "      <td>629</td>\n",
              "      <td>829</td>\n",
              "      <td>1416</td>\n",
              "      <td>621</td>\n",
              "    </tr>\n",
              "    <tr>\n",
              "      <th>Ptralav11000005m.g</th>\n",
              "      <td>4</td>\n",
              "      <td>4</td>\n",
              "      <td>1</td>\n",
              "      <td>5</td>\n",
              "      <td>28</td>\n",
              "      <td>8</td>\n",
              "      <td>27</td>\n",
              "      <td>17</td>\n",
              "      <td>12</td>\n",
              "      <td>28</td>\n",
              "      <td>17</td>\n",
              "    </tr>\n",
              "    <tr>\n",
              "      <th>Ptralav11000006m.g</th>\n",
              "      <td>0</td>\n",
              "      <td>0</td>\n",
              "      <td>0</td>\n",
              "      <td>0</td>\n",
              "      <td>0</td>\n",
              "      <td>0</td>\n",
              "      <td>0</td>\n",
              "      <td>1</td>\n",
              "      <td>1</td>\n",
              "      <td>0</td>\n",
              "      <td>0</td>\n",
              "    </tr>\n",
              "    <tr>\n",
              "      <th>...</th>\n",
              "      <td>...</td>\n",
              "      <td>...</td>\n",
              "      <td>...</td>\n",
              "      <td>...</td>\n",
              "      <td>...</td>\n",
              "      <td>...</td>\n",
              "      <td>...</td>\n",
              "      <td>...</td>\n",
              "      <td>...</td>\n",
              "      <td>...</td>\n",
              "      <td>...</td>\n",
              "    </tr>\n",
              "    <tr>\n",
              "      <th>Ptralpv11077054m.g</th>\n",
              "      <td>4</td>\n",
              "      <td>0</td>\n",
              "      <td>3</td>\n",
              "      <td>1</td>\n",
              "      <td>12</td>\n",
              "      <td>3</td>\n",
              "      <td>0</td>\n",
              "      <td>19</td>\n",
              "      <td>2</td>\n",
              "      <td>36</td>\n",
              "      <td>2</td>\n",
              "    </tr>\n",
              "    <tr>\n",
              "      <th>Ptralpv11077058m.g</th>\n",
              "      <td>0</td>\n",
              "      <td>1</td>\n",
              "      <td>0</td>\n",
              "      <td>1</td>\n",
              "      <td>0</td>\n",
              "      <td>0</td>\n",
              "      <td>0</td>\n",
              "      <td>0</td>\n",
              "      <td>0</td>\n",
              "      <td>0</td>\n",
              "      <td>0</td>\n",
              "    </tr>\n",
              "    <tr>\n",
              "      <th>Ptralpv11077059m.g</th>\n",
              "      <td>0</td>\n",
              "      <td>0</td>\n",
              "      <td>0</td>\n",
              "      <td>0</td>\n",
              "      <td>0</td>\n",
              "      <td>0</td>\n",
              "      <td>0</td>\n",
              "      <td>0</td>\n",
              "      <td>0</td>\n",
              "      <td>0</td>\n",
              "      <td>0</td>\n",
              "    </tr>\n",
              "    <tr>\n",
              "      <th>Ptralpv11077060m.g</th>\n",
              "      <td>35</td>\n",
              "      <td>67</td>\n",
              "      <td>77</td>\n",
              "      <td>309</td>\n",
              "      <td>19</td>\n",
              "      <td>9</td>\n",
              "      <td>45</td>\n",
              "      <td>8</td>\n",
              "      <td>48</td>\n",
              "      <td>24</td>\n",
              "      <td>8</td>\n",
              "    </tr>\n",
              "    <tr>\n",
              "      <th>Ptralpv11077061m.g</th>\n",
              "      <td>0</td>\n",
              "      <td>0</td>\n",
              "      <td>0</td>\n",
              "      <td>0</td>\n",
              "      <td>0</td>\n",
              "      <td>0</td>\n",
              "      <td>0</td>\n",
              "      <td>0</td>\n",
              "      <td>0</td>\n",
              "      <td>0</td>\n",
              "      <td>0</td>\n",
              "    </tr>\n",
              "  </tbody>\n",
              "</table>\n",
              "<p>69897 rows × 11 columns</p>\n",
              "</div>"
            ],
            "text/plain": [
              "                    barkpri_717_counts  ...  xylem_717_counts\n",
              "gene                                    ...                  \n",
              "Ptralav11000001m.g                   0  ...                 0\n",
              "Ptralav11000002m.g                   0  ...                 0\n",
              "Ptralav11000004m.g                 694  ...               621\n",
              "Ptralav11000005m.g                   4  ...                17\n",
              "Ptralav11000006m.g                   0  ...                 0\n",
              "...                                ...  ...               ...\n",
              "Ptralpv11077054m.g                   4  ...                 2\n",
              "Ptralpv11077058m.g                   0  ...                 0\n",
              "Ptralpv11077059m.g                   0  ...                 0\n",
              "Ptralpv11077060m.g                  35  ...                 8\n",
              "Ptralpv11077061m.g                   0  ...                 0\n",
              "\n",
              "[69897 rows x 11 columns]"
            ]
          },
          "metadata": {},
          "execution_count": 1
        }
      ]
    },
    {
      "cell_type": "code",
      "metadata": {
        "id": "apGZqqgM1jfP",
        "colab": {
          "base_uri": "https://localhost:8080/"
        },
        "outputId": "34593c2d-93b8-418e-8bb9-8baeac8dc18b"
      },
      "source": [
        "%%time\n",
        "\n",
        "# PCA\n",
        "\n",
        "from sklearn.preprocessing import StandardScaler\n",
        "input_data = input_table.values.transpose()\n",
        "x = StandardScaler().fit_transform(input_data)\n",
        "from sklearn.decomposition import PCA\n",
        "pca = PCA(n_components=2)\n",
        "principalComponents = pca.fit_transform(x)\n",
        "principalDf = pd.DataFrame(data = principalComponents\n",
        "             , columns = ['principal component 1', 'principal component 2'])"
      ],
      "execution_count": 11,
      "outputs": [
        {
          "output_type": "stream",
          "name": "stdout",
          "text": [
            "CPU times: user 209 ms, sys: 218 ms, total: 428 ms\n",
            "Wall time: 245 ms\n"
          ]
        }
      ]
    },
    {
      "cell_type": "code",
      "metadata": {
        "id": "qf32egq8RF11",
        "outputId": "861bc1b1-8b6b-4a8e-d8ba-a56f65c10c93",
        "colab": {
          "base_uri": "https://localhost:8080/"
        }
      },
      "source": [
        "treatment_list = list(input_table.columns)\n",
        "principalDf.shape"
      ],
      "execution_count": 20,
      "outputs": [
        {
          "output_type": "execute_result",
          "data": {
            "text/plain": [
              "(11, 2)"
            ]
          },
          "metadata": {},
          "execution_count": 20
        }
      ]
    },
    {
      "cell_type": "code",
      "metadata": {
        "id": "9UZ2TPCa1jfP",
        "colab": {
          "base_uri": "https://localhost:8080/",
          "height": 296
        },
        "outputId": "f6c76b4f-4eaa-4c9c-e941-fd4b52da2df9"
      },
      "source": [
        "# visualize PCA result \n",
        "\n",
        "# append some attributes of each sample for visualization\n",
        "principalDf['treatment'] = treatment_list\n",
        "sns.scatterplot(\n",
        "    data=principalDf,\n",
        "    x='principal component 1',\n",
        "    y='principal component 2',\n",
        "    # hue='tissue',\n",
        "    style='treatment'\n",
        ")\n",
        "plt.legend(bbox_to_anchor=(1.05, 1), loc=2, borderaxespad=0.)"
      ],
      "execution_count": 25,
      "outputs": [
        {
          "output_type": "execute_result",
          "data": {
            "text/plain": [
              "<matplotlib.legend.Legend at 0x7f29e80481d0>"
            ]
          },
          "metadata": {},
          "execution_count": 25
        },
        {
          "output_type": "display_data",
          "data": {
            "image/png": "[encoded data removed]",
            "text/plain": [
              "<Figure size 432x288 with 1 Axes>"
            ]
          },
          "metadata": {
            "needs_background": "light"
          }
        }
      ]
    },
    {
      "cell_type": "code",
      "metadata": {
        "id": "M2EUpPbZP63f",
        "outputId": "f9607f38-3fab-4c28-c12e-2292803ce718",
        "colab": {
          "base_uri": "https://localhost:8080/"
        }
      },
      "source": [
        "!pip install umap-learn"
      ],
      "execution_count": 4,
      "outputs": [
        {
          "output_type": "stream",
          "name": "stdout",
          "text": [
            "Requirement already satisfied: umap-learn in /usr/local/lib/python3.7/dist-packages (0.5.1)\n",
            "Requirement already satisfied: numpy>=1.17 in /usr/local/lib/python3.7/dist-packages (from umap-learn) (1.19.5)\n",
            "Requirement already satisfied: numba>=0.49 in /usr/local/lib/python3.7/dist-packages (from umap-learn) (0.51.2)\n",
            "Requirement already satisfied: scipy>=1.0 in /usr/local/lib/python3.7/dist-packages (from umap-learn) (1.4.1)\n",
            "Requirement already satisfied: scikit-learn>=0.22 in /usr/local/lib/python3.7/dist-packages (from umap-learn) (0.22.2.post1)\n",
            "Requirement already satisfied: pynndescent>=0.5 in /usr/local/lib/python3.7/dist-packages (from umap-learn) (0.5.4)\n",
            "Requirement already satisfied: setuptools in /usr/local/lib/python3.7/dist-packages (from numba>=0.49->umap-learn) (57.4.0)\n",
            "Requirement already satisfied: llvmlite<0.35,>=0.34.0.dev0 in /usr/local/lib/python3.7/dist-packages (from numba>=0.49->umap-learn) (0.34.0)\n",
            "Requirement already satisfied: joblib>=0.11 in /usr/local/lib/python3.7/dist-packages (from pynndescent>=0.5->umap-learn) (1.0.1)\n"
          ]
        }
      ]
    },
    {
      "cell_type": "code",
      "metadata": {
        "id": "Uj3Gdfyi1jfQ",
        "colab": {
          "base_uri": "https://localhost:8080/"
        },
        "outputId": "63371b26-d0f2-418a-e994-c4ce64921e8f"
      },
      "source": [
        "%%time\n",
        "\n",
        "# UMAP\n",
        "\n",
        "import umap\n",
        "reducer = umap.UMAP()\n",
        "input_data = input_table.values.transpose()\n",
        "scaled_input_data = StandardScaler().fit_transform(input_data)\n",
        "embedding = reducer.fit_transform(scaled_input_data)\n",
        "embedding.shape"
      ],
      "execution_count": 10,
      "outputs": [
        {
          "output_type": "stream",
          "name": "stderr",
          "text": [
            "/usr/local/lib/python3.7/dist-packages/umap/umap_.py:2214: UserWarning: n_neighbors is larger than the dataset size; truncating to X.shape[0] - 1\n",
            "  \"n_neighbors is larger than the dataset size; truncating to \"\n"
          ]
        },
        {
          "output_type": "stream",
          "name": "stdout",
          "text": [
            "CPU times: user 3.17 s, sys: 25 ms, total: 3.2 s\n",
            "Wall time: 3.16 s\n"
          ]
        }
      ]
    },
    {
      "cell_type": "code",
      "metadata": {
        "id": "yruwQ7oA1jfQ",
        "outputId": "c63b711c-c40d-47c5-ca4e-1d674a74aa40",
        "colab": {
          "base_uri": "https://localhost:8080/",
          "height": 299
        }
      },
      "source": [
        "# visualize UMAP result\n",
        "eb = pd.DataFrame(embedding)\n",
        "# eb['tissue'] = tissue_list\n",
        "\n",
        "# subs = ['na']*11\n",
        "# for i in range(len(subs)):\n",
        "#     treatment_list[i] = subs[i]\n",
        "eb['treatment'] = treatment_list\n",
        "sns.scatterplot(\n",
        "    data=eb,\n",
        "    x=0,\n",
        "    y=1,\n",
        "    # hue='tissue',\n",
        "    style='treatment'\n",
        ")\n",
        "plt.legend(bbox_to_anchor=(1.05, 1), loc=2, borderaxespad=0.)"
      ],
      "execution_count": 22,
      "outputs": [
        {
          "output_type": "execute_result",
          "data": {
            "text/plain": [
              "<matplotlib.legend.Legend at 0x7f29e815b750>"
            ]
          },
          "metadata": {},
          "execution_count": 22
        },
        {
          "output_type": "display_data",
          "data": {
            "image/png": "[encoded data removed]",
            "text/plain": [
              "<Figure size 432x288 with 1 Axes>"
            ]
          },
          "metadata": {
            "needs_background": "light"
          }
        }
      ]
    }
  ]
}